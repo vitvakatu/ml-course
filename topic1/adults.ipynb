{
 "cells": [
  {
   "cell_type": "code",
   "execution_count": 82,
   "metadata": {
    "collapsed": true,
    "pycharm": {
     "is_executing": false
    }
   },
   "outputs": [],
   "source": [
    "import pandas as pd\n",
    "import numpy as np\n",
    "\n",
    "pd.set_option(\"display.precision\", 2)\n",
    "\n",
    "col_names = ['age', 'workclass', 'fnlwgt', 'education', 'education-num', 'marital-status', 'occupation', 'relationship',\n",
    "             'race', 'sex', 'capital-gain', 'capital-loss', 'hours-per-week', 'native-country', 'makes-more-50K']\n",
    "df = pd.read_csv(\"data/adult.data\", names=col_names, skipinitialspace=True)\n",
    "\n",
    "df.replace({'makes-more-50K': {'<=50K': False, '>50K': True}}, inplace=True)"
   ]
  },
  {
   "cell_type": "markdown",
   "source": [
    "How many men and women are represented in the dataset?"
   ],
   "metadata": {
    "collapsed": false,
    "pycharm": {
     "name": "#%% md\n",
     "is_executing": false
    }
   }
  },
  {
   "cell_type": "code",
   "execution_count": 83,
   "outputs": [
    {
     "data": {
      "text/plain": "Male      21790\nFemale    10771\nName: sex, dtype: int64"
     },
     "metadata": {},
     "output_type": "execute_result",
     "execution_count": 83
    }
   ],
   "source": [
    "df['sex'].value_counts()"
   ],
   "metadata": {
    "collapsed": false,
    "pycharm": {
     "name": "#%%\n",
     "is_executing": false
    }
   }
  },
  {
   "cell_type": "markdown",
   "source": [
    "What is the average age of women?"
   ],
   "metadata": {
    "collapsed": false,
    "pycharm": {
     "name": "#%% md\n"
    }
   }
  },
  {
   "cell_type": "code",
   "execution_count": 84,
   "outputs": [
    {
     "data": {
      "text/plain": "36.85823043357163"
     },
     "metadata": {},
     "output_type": "execute_result",
     "execution_count": 84
    }
   ],
   "source": [
    "df[df['sex'] == 'Female']['age'].mean()"
   ],
   "metadata": {
    "collapsed": false,
    "pycharm": {
     "name": "#%%\n",
     "is_executing": false
    }
   }
  },
  {
   "cell_type": "markdown",
   "source": [
    "What is the percentage of German people?"
   ],
   "metadata": {
    "collapsed": false,
    "pycharm": {
     "name": "#%% md\n"
    }
   }
  },
  {
   "cell_type": "code",
   "execution_count": 85,
   "outputs": [
    {
     "data": {
      "text/plain": "0.004207487485028101"
     },
     "metadata": {},
     "output_type": "execute_result",
     "execution_count": 85
    }
   ],
   "source": [
    "#df[df['native-country'] == 'Germany'].count() / df.count()\n",
    "(df['native-country'] == 'Germany').sum() / df.shape[0]"
   ],
   "metadata": {
    "collapsed": false,
    "pycharm": {
     "name": "#%%\n",
     "is_executing": false
    }
   }
  },
  {
   "cell_type": "markdown",
   "source": [
    "What are the mean and standard deviation of age for those who earn more than 50K per year (salary feature) and those who earn less than 50K per year?"
   ],
   "metadata": {
    "collapsed": false
   }
  },
  {
   "cell_type": "code",
   "execution_count": 86,
   "outputs": [
    {
     "name": "stdout",
     "text": [
      "Rich: 44.24984058155847 +- 10.519027719851826, poor: 36.78373786407767 +- 14.02008849082488\n"
     ],
     "output_type": "stream"
    }
   ],
   "source": [
    "poor = df.loc[df['makes-more-50K'] == False, 'age']\n",
    "rich = df.loc[df['makes-more-50K'] == True, 'age']\n",
    "print(f\"Rich: {rich.mean()} +- {rich.std()}, poor: {poor.mean()} +- {poor.std()}\")\n",
    "# df.groupby(['makes-more-50K'])['age'].mean()"
   ],
   "metadata": {
    "collapsed": false,
    "pycharm": {
     "name": "#%%\n",
     "is_executing": false
    }
   }
  },
  {
   "cell_type": "markdown",
   "source": [
    "Is it true that people who earn more than 50K have at least high school education? (education – Bachelors, Prof-school, Assoc-acdm, Assoc-voc, Masters or Doctorate feature)"
   ],
   "metadata": {
    "collapsed": false
   }
  },
  {
   "cell_type": "code",
   "execution_count": 87,
   "outputs": [
    {
     "data": {
      "text/plain": "array(['HS-grad', 'Masters', 'Bachelors', 'Some-college', 'Assoc-voc',\n       'Doctorate', 'Prof-school', 'Assoc-acdm', '7th-8th', '12th',\n       '10th', '11th', '9th', '5th-6th', '1st-4th'], dtype=object)"
     },
     "metadata": {},
     "output_type": "execute_result",
     "execution_count": 87
    }
   ],
   "source": [
    "# df[df['makes-more-50K'] == True]['education'].value_counts()\n",
    "df.loc[df['makes-more-50K'] == True, 'education'].unique()"
   ],
   "metadata": {
    "collapsed": false,
    "pycharm": {
     "name": "#%%\n",
     "is_executing": false
    }
   }
  },
  {
   "cell_type": "markdown",
   "source": [
    "Display age statistics for each race (race feature) and each gender (sex feature). Use groupby() and describe(). Find the maximum age of men of Amer-Indian-Eskimo race."
   ],
   "metadata": {
    "collapsed": false
   }
  },
  {
   "cell_type": "code",
   "execution_count": 88,
   "outputs": [
    {
     "data": {
      "text/plain": "                             count   mean    std   min   25%   50%    75%  \\\nrace               sex                                                      \nAmer-Indian-Eskimo Female    119.0  37.12  13.11  17.0  27.0  36.0  46.00   \n                   Male      192.0  37.21  12.05  17.0  28.0  35.0  45.00   \nAsian-Pac-Islander Female    346.0  35.09  12.30  17.0  25.0  33.0  43.75   \n                   Male      693.0  39.07  12.88  18.0  29.0  37.0  46.00   \nBlack              Female   1555.0  37.85  12.64  17.0  28.0  37.0  46.00   \n                   Male     1569.0  37.68  12.88  17.0  27.0  36.0  46.00   \nOther              Female    109.0  31.68  11.63  17.0  23.0  29.0  39.00   \n                   Male      162.0  34.65  11.36  17.0  26.0  32.0  42.00   \nWhite              Female   8642.0  36.81  14.33  17.0  25.0  35.0  46.00   \n                   Male    19174.0  39.65  13.44  17.0  29.0  38.0  49.00   \n\n                            max  \nrace               sex           \nAmer-Indian-Eskimo Female  80.0  \n                   Male    82.0  \nAsian-Pac-Islander Female  75.0  \n                   Male    90.0  \nBlack              Female  90.0  \n                   Male    90.0  \nOther              Female  74.0  \n                   Male    77.0  \nWhite              Female  90.0  \n                   Male    90.0  ",
      "text/html": "<div>\n<style scoped>\n    .dataframe tbody tr th:only-of-type {\n        vertical-align: middle;\n    }\n\n    .dataframe tbody tr th {\n        vertical-align: top;\n    }\n\n    .dataframe thead th {\n        text-align: right;\n    }\n</style>\n<table border=\"1\" class=\"dataframe\">\n  <thead>\n    <tr style=\"text-align: right;\">\n      <th></th>\n      <th></th>\n      <th>count</th>\n      <th>mean</th>\n      <th>std</th>\n      <th>min</th>\n      <th>25%</th>\n      <th>50%</th>\n      <th>75%</th>\n      <th>max</th>\n    </tr>\n    <tr>\n      <th>race</th>\n      <th>sex</th>\n      <th></th>\n      <th></th>\n      <th></th>\n      <th></th>\n      <th></th>\n      <th></th>\n      <th></th>\n      <th></th>\n    </tr>\n  </thead>\n  <tbody>\n    <tr>\n      <th rowspan=\"2\" valign=\"top\">Amer-Indian-Eskimo</th>\n      <th>Female</th>\n      <td>119.0</td>\n      <td>37.12</td>\n      <td>13.11</td>\n      <td>17.0</td>\n      <td>27.0</td>\n      <td>36.0</td>\n      <td>46.00</td>\n      <td>80.0</td>\n    </tr>\n    <tr>\n      <th>Male</th>\n      <td>192.0</td>\n      <td>37.21</td>\n      <td>12.05</td>\n      <td>17.0</td>\n      <td>28.0</td>\n      <td>35.0</td>\n      <td>45.00</td>\n      <td>82.0</td>\n    </tr>\n    <tr>\n      <th rowspan=\"2\" valign=\"top\">Asian-Pac-Islander</th>\n      <th>Female</th>\n      <td>346.0</td>\n      <td>35.09</td>\n      <td>12.30</td>\n      <td>17.0</td>\n      <td>25.0</td>\n      <td>33.0</td>\n      <td>43.75</td>\n      <td>75.0</td>\n    </tr>\n    <tr>\n      <th>Male</th>\n      <td>693.0</td>\n      <td>39.07</td>\n      <td>12.88</td>\n      <td>18.0</td>\n      <td>29.0</td>\n      <td>37.0</td>\n      <td>46.00</td>\n      <td>90.0</td>\n    </tr>\n    <tr>\n      <th rowspan=\"2\" valign=\"top\">Black</th>\n      <th>Female</th>\n      <td>1555.0</td>\n      <td>37.85</td>\n      <td>12.64</td>\n      <td>17.0</td>\n      <td>28.0</td>\n      <td>37.0</td>\n      <td>46.00</td>\n      <td>90.0</td>\n    </tr>\n    <tr>\n      <th>Male</th>\n      <td>1569.0</td>\n      <td>37.68</td>\n      <td>12.88</td>\n      <td>17.0</td>\n      <td>27.0</td>\n      <td>36.0</td>\n      <td>46.00</td>\n      <td>90.0</td>\n    </tr>\n    <tr>\n      <th rowspan=\"2\" valign=\"top\">Other</th>\n      <th>Female</th>\n      <td>109.0</td>\n      <td>31.68</td>\n      <td>11.63</td>\n      <td>17.0</td>\n      <td>23.0</td>\n      <td>29.0</td>\n      <td>39.00</td>\n      <td>74.0</td>\n    </tr>\n    <tr>\n      <th>Male</th>\n      <td>162.0</td>\n      <td>34.65</td>\n      <td>11.36</td>\n      <td>17.0</td>\n      <td>26.0</td>\n      <td>32.0</td>\n      <td>42.00</td>\n      <td>77.0</td>\n    </tr>\n    <tr>\n      <th rowspan=\"2\" valign=\"top\">White</th>\n      <th>Female</th>\n      <td>8642.0</td>\n      <td>36.81</td>\n      <td>14.33</td>\n      <td>17.0</td>\n      <td>25.0</td>\n      <td>35.0</td>\n      <td>46.00</td>\n      <td>90.0</td>\n    </tr>\n    <tr>\n      <th>Male</th>\n      <td>19174.0</td>\n      <td>39.65</td>\n      <td>13.44</td>\n      <td>17.0</td>\n      <td>29.0</td>\n      <td>38.0</td>\n      <td>49.00</td>\n      <td>90.0</td>\n    </tr>\n  </tbody>\n</table>\n</div>"
     },
     "metadata": {},
     "output_type": "execute_result",
     "execution_count": 88
    }
   ],
   "source": [
    "df.groupby(['race', 'sex'])['age'].describe()"
   ],
   "metadata": {
    "collapsed": false,
    "pycharm": {
     "name": "#%%\n",
     "is_executing": false
    }
   }
  },
  {
   "cell_type": "markdown",
   "source": [
    "Among whom is the proportion of those who earn a lot (>50K) greater: married or single men (marital-status feature)? Consider as married those who have a marital-status starting with Married (Married-civ-spouse, Married-spouse-absent or Married-AF-spouse), the rest are considered bachelors."
   ],
   "metadata": {
    "collapsed": false
   }
  },
  {
   "cell_type": "code",
   "execution_count": 89,
   "outputs": [
    {
     "name": "stdout",
     "text": [
      "Married:\n"
     ],
     "output_type": "stream"
    },
    {
     "data": {
      "text/plain": "False    0.56\nTrue     0.44\nName: makes-more-50K, dtype: float64"
     },
     "metadata": {},
     "output_type": "execute_result",
     "execution_count": 89
    }
   ],
   "source": [
    "#married = df[df['marital-status'].apply(lambda status: status.startswith('Married')) == True]\n",
    "#married['makes-more-50K'].value_counts(normalize=True)\n",
    "males = df['sex'] == 'Male'\n",
    "married = df['marital-status'].str.startswith('Married')\n",
    "print(\"Married:\")\n",
    "df.loc[males & married, 'makes-more-50K'].value_counts(normalize=True)"
   ],
   "metadata": {
    "collapsed": false,
    "pycharm": {
     "name": "#%%\n",
     "is_executing": false
    }
   }
  },
  {
   "cell_type": "code",
   "execution_count": 90,
   "outputs": [
    {
     "data": {
      "text/plain": "False    0.92\nTrue     0.08\nName: makes-more-50K, dtype: float64"
     },
     "metadata": {},
     "output_type": "execute_result",
     "execution_count": 90
    }
   ],
   "source": [
    "single = df['marital-status'].isin(['Never-married', 'Separated', 'Divorced', 'Widowed'])\n",
    "#single = df[df['marital-status'].apply(lambda status: status.startswith('Married')) == False]\n",
    "df.loc[males & single, 'makes-more-50K'].value_counts(normalize=True)"
   ],
   "metadata": {
    "collapsed": false,
    "pycharm": {
     "name": "#%%\n",
     "is_executing": false
    }
   }
  },
  {
   "cell_type": "markdown",
   "source": [
    "What is the maximum number of hours a person works per week (hours-per-week feature)? How many people work such a number of hours, and what is the percentage of those who earn a lot (>50K) among them?"
   ],
   "metadata": {
    "collapsed": false
   }
  },
  {
   "cell_type": "code",
   "execution_count": 91,
   "outputs": [
    {
     "name": "stdout",
     "text": [
      "Max load = 99 hours/week\n"
     ],
     "output_type": "stream"
    }
   ],
   "source": [
    "max_load = df['hours-per-week'].max()\n",
    "print(f\"Max load = {max_load} hours/week\")"
   ],
   "metadata": {
    "collapsed": false,
    "pycharm": {
     "name": "#%%\n",
     "is_executing": false
    }
   }
  },
  {
   "cell_type": "code",
   "execution_count": 92,
   "outputs": [
    {
     "name": "stdout",
     "text": [
      "Workaholics: 85\n",
      "Make more than 50K:\n"
     ],
     "output_type": "stream"
    },
    {
     "data": {
      "text/plain": "False    0.71\nTrue     0.29\nName: makes-more-50K, dtype: float64"
     },
     "metadata": {},
     "output_type": "execute_result",
     "execution_count": 92
    }
   ],
   "source": [
    "#df[df['hours-per-week'] == df['hours-per-week'].max()]['makes-more-50K'].describe()\n",
    "workaholics = df[df['hours-per-week'] == max_load]\n",
    "print(f\"Workaholics: {workaholics.shape[0]}\")\n",
    "\n",
    "print(\"Make more than 50K:\")\n",
    "workaholics['makes-more-50K'].value_counts(normalize=True)"
   ],
   "metadata": {
    "collapsed": false,
    "pycharm": {
     "name": "#%%\n",
     "is_executing": false
    }
   }
  },
  {
   "cell_type": "markdown",
   "source": [
    "Count the average time of work (hours-per-week) for those who earn a little and a lot (salary) for each country (native-country). What will these be for Japan?"
   ],
   "metadata": {
    "collapsed": false
   }
  },
  {
   "cell_type": "code",
   "execution_count": 95,
   "outputs": [
    {
     "data": {
      "text/plain": "makes-more-50K              False  True \nnative-country                          \n?                           40.16  45.55\nCambodia                    41.42  40.00\nCanada                      37.91  45.64\nChina                       37.38  38.90\nColumbia                    38.68  50.00\nCuba                        37.99  42.44\nDominican-Republic          42.34  47.00\nEcuador                     38.04  48.75\nEl-Salvador                 36.03  45.00\nEngland                     40.48  44.53\nFrance                      41.06  50.75\nGermany                     39.14  44.98\nGreece                      41.81  50.62\nGuatemala                   39.36  36.67\nHaiti                       36.33  42.75\nHoland-Netherlands          40.00    NaN\nHonduras                    34.33  60.00\nHong                        39.14  45.00\nHungary                     31.30  50.00\nIndia                       38.23  46.48\nIran                        41.44  47.50\nIreland                     40.95  48.00\nItaly                       39.62  45.40\nJamaica                     38.24  41.10\nJapan                       41.00  47.96\nLaos                        40.38  40.00\nMexico                      40.00  46.58\nNicaragua                   36.09  37.50\nOutlying-US(Guam-USVI-etc)  41.86    NaN\nPeru                        35.07  40.00\nPhilippines                 38.07  43.03\nPoland                      38.17  39.00\nPortugal                    41.94  41.50\nPuerto-Rico                 38.47  39.42\nScotland                    39.44  46.67\nSouth                       40.16  51.44\nTaiwan                      33.77  46.80\nThailand                    42.87  58.33\nTrinadad&Tobago             37.06  40.00\nUnited-States               38.80  45.51\nVietnam                     37.19  39.20\nYugoslavia                  41.60  49.50",
      "text/html": "<div>\n<style scoped>\n    .dataframe tbody tr th:only-of-type {\n        vertical-align: middle;\n    }\n\n    .dataframe tbody tr th {\n        vertical-align: top;\n    }\n\n    .dataframe thead th {\n        text-align: right;\n    }\n</style>\n<table border=\"1\" class=\"dataframe\">\n  <thead>\n    <tr style=\"text-align: right;\">\n      <th>makes-more-50K</th>\n      <th>False</th>\n      <th>True</th>\n    </tr>\n    <tr>\n      <th>native-country</th>\n      <th></th>\n      <th></th>\n    </tr>\n  </thead>\n  <tbody>\n    <tr>\n      <th>?</th>\n      <td>40.16</td>\n      <td>45.55</td>\n    </tr>\n    <tr>\n      <th>Cambodia</th>\n      <td>41.42</td>\n      <td>40.00</td>\n    </tr>\n    <tr>\n      <th>Canada</th>\n      <td>37.91</td>\n      <td>45.64</td>\n    </tr>\n    <tr>\n      <th>China</th>\n      <td>37.38</td>\n      <td>38.90</td>\n    </tr>\n    <tr>\n      <th>Columbia</th>\n      <td>38.68</td>\n      <td>50.00</td>\n    </tr>\n    <tr>\n      <th>Cuba</th>\n      <td>37.99</td>\n      <td>42.44</td>\n    </tr>\n    <tr>\n      <th>Dominican-Republic</th>\n      <td>42.34</td>\n      <td>47.00</td>\n    </tr>\n    <tr>\n      <th>Ecuador</th>\n      <td>38.04</td>\n      <td>48.75</td>\n    </tr>\n    <tr>\n      <th>El-Salvador</th>\n      <td>36.03</td>\n      <td>45.00</td>\n    </tr>\n    <tr>\n      <th>England</th>\n      <td>40.48</td>\n      <td>44.53</td>\n    </tr>\n    <tr>\n      <th>France</th>\n      <td>41.06</td>\n      <td>50.75</td>\n    </tr>\n    <tr>\n      <th>Germany</th>\n      <td>39.14</td>\n      <td>44.98</td>\n    </tr>\n    <tr>\n      <th>Greece</th>\n      <td>41.81</td>\n      <td>50.62</td>\n    </tr>\n    <tr>\n      <th>Guatemala</th>\n      <td>39.36</td>\n      <td>36.67</td>\n    </tr>\n    <tr>\n      <th>Haiti</th>\n      <td>36.33</td>\n      <td>42.75</td>\n    </tr>\n    <tr>\n      <th>Holand-Netherlands</th>\n      <td>40.00</td>\n      <td>NaN</td>\n    </tr>\n    <tr>\n      <th>Honduras</th>\n      <td>34.33</td>\n      <td>60.00</td>\n    </tr>\n    <tr>\n      <th>Hong</th>\n      <td>39.14</td>\n      <td>45.00</td>\n    </tr>\n    <tr>\n      <th>Hungary</th>\n      <td>31.30</td>\n      <td>50.00</td>\n    </tr>\n    <tr>\n      <th>India</th>\n      <td>38.23</td>\n      <td>46.48</td>\n    </tr>\n    <tr>\n      <th>Iran</th>\n      <td>41.44</td>\n      <td>47.50</td>\n    </tr>\n    <tr>\n      <th>Ireland</th>\n      <td>40.95</td>\n      <td>48.00</td>\n    </tr>\n    <tr>\n      <th>Italy</th>\n      <td>39.62</td>\n      <td>45.40</td>\n    </tr>\n    <tr>\n      <th>Jamaica</th>\n      <td>38.24</td>\n      <td>41.10</td>\n    </tr>\n    <tr>\n      <th>Japan</th>\n      <td>41.00</td>\n      <td>47.96</td>\n    </tr>\n    <tr>\n      <th>Laos</th>\n      <td>40.38</td>\n      <td>40.00</td>\n    </tr>\n    <tr>\n      <th>Mexico</th>\n      <td>40.00</td>\n      <td>46.58</td>\n    </tr>\n    <tr>\n      <th>Nicaragua</th>\n      <td>36.09</td>\n      <td>37.50</td>\n    </tr>\n    <tr>\n      <th>Outlying-US(Guam-USVI-etc)</th>\n      <td>41.86</td>\n      <td>NaN</td>\n    </tr>\n    <tr>\n      <th>Peru</th>\n      <td>35.07</td>\n      <td>40.00</td>\n    </tr>\n    <tr>\n      <th>Philippines</th>\n      <td>38.07</td>\n      <td>43.03</td>\n    </tr>\n    <tr>\n      <th>Poland</th>\n      <td>38.17</td>\n      <td>39.00</td>\n    </tr>\n    <tr>\n      <th>Portugal</th>\n      <td>41.94</td>\n      <td>41.50</td>\n    </tr>\n    <tr>\n      <th>Puerto-Rico</th>\n      <td>38.47</td>\n      <td>39.42</td>\n    </tr>\n    <tr>\n      <th>Scotland</th>\n      <td>39.44</td>\n      <td>46.67</td>\n    </tr>\n    <tr>\n      <th>South</th>\n      <td>40.16</td>\n      <td>51.44</td>\n    </tr>\n    <tr>\n      <th>Taiwan</th>\n      <td>33.77</td>\n      <td>46.80</td>\n    </tr>\n    <tr>\n      <th>Thailand</th>\n      <td>42.87</td>\n      <td>58.33</td>\n    </tr>\n    <tr>\n      <th>Trinadad&amp;Tobago</th>\n      <td>37.06</td>\n      <td>40.00</td>\n    </tr>\n    <tr>\n      <th>United-States</th>\n      <td>38.80</td>\n      <td>45.51</td>\n    </tr>\n    <tr>\n      <th>Vietnam</th>\n      <td>37.19</td>\n      <td>39.20</td>\n    </tr>\n    <tr>\n      <th>Yugoslavia</th>\n      <td>41.60</td>\n      <td>49.50</td>\n    </tr>\n  </tbody>\n</table>\n</div>"
     },
     "metadata": {},
     "output_type": "execute_result",
     "execution_count": 95
    }
   ],
   "source": [
    "pd.crosstab(df['native-country'], df['makes-more-50K'], values=df['hours-per-week'], aggfunc=np.mean)\n"
   ],
   "metadata": {
    "collapsed": false,
    "pycharm": {
     "name": "#%%\n",
     "is_executing": false
    }
   }
  }
 ],
 "metadata": {
  "kernelspec": {
   "display_name": "Python 3",
   "language": "python",
   "name": "python3"
  },
  "language_info": {
   "codemirror_mode": {
    "name": "ipython",
    "version": 2
   },
   "file_extension": ".py",
   "mimetype": "text/x-python",
   "name": "python",
   "nbconvert_exporter": "python",
   "pygments_lexer": "ipython2",
   "version": "2.7.6"
  },
  "pycharm": {
   "stem_cell": {
    "cell_type": "raw",
    "source": [],
    "metadata": {
     "collapsed": false
    }
   }
  }
 },
 "nbformat": 4,
 "nbformat_minor": 0
}
